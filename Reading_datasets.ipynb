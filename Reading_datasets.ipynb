{
  "cells": [
    {
      "cell_type": "code",
      "execution_count": null,
      "id": "4660018a-5d90-4eca-8951-edc66f1c86c5",
      "metadata": {
        "colab": {
          "base_uri": "https://localhost:8080/"
        },
        "id": "4660018a-5d90-4eca-8951-edc66f1c86c5",
        "outputId": "afcf5d37-6311-452a-a130-0597c4d0c252"
      },
      "outputs": [
        {
          "output_type": "stream",
          "name": "stdout",
          "text": [
            "Looking in indexes: https://pypi.org/simple, https://us-python.pkg.dev/colab-wheels/public/simple/\n",
            "Requirement already satisfied: pandas in /usr/local/lib/python3.9/dist-packages (1.3.5)\n",
            "Requirement already satisfied: numpy>=1.17.3 in /usr/local/lib/python3.9/dist-packages (from pandas) (1.22.4)\n",
            "Requirement already satisfied: pytz>=2017.3 in /usr/local/lib/python3.9/dist-packages (from pandas) (2022.7.1)\n",
            "Requirement already satisfied: python-dateutil>=2.7.3 in /usr/local/lib/python3.9/dist-packages (from pandas) (2.8.2)\n",
            "Requirement already satisfied: six>=1.5 in /usr/local/lib/python3.9/dist-packages (from python-dateutil>=2.7.3->pandas) (1.15.0)\n"
          ]
        }
      ],
      "source": [
        "\n",
        "!pip install pandas"
      ]
    },
    {
      "cell_type": "markdown",
      "id": "897f0066-a7fa-4f2a-a0e6-f93a1ba92384",
      "metadata": {
        "id": "897f0066-a7fa-4f2a-a0e6-f93a1ba92384"
      },
      "source": [
        "\n",
        "## *Reading Time Series Data from Files*, \n",
        "\n",
        "This chapter is an introduction to time series data. This chapter shows you how to read data from various and commonly used file\n",
        "types, whether stored locally or on the cloud. The recipes will highlight advanced options\n",
        "for ingesting, preparing, and transforming data into a time series DataFrame for\n",
        "later analysis.  \n",
        "\n",
        "We will cover the following recipes on how to ingest data into a pandas DataFrame:\n",
        "* Reading data from CSVs and other delimited files\n",
        "* Reading data from an Excel file\n",
        "* Reading data from URLs\n"
      ]
    },
    {
      "cell_type": "markdown",
      "id": "cc1f3dac-5f42-4c0d-ae98-80dafb21bc25",
      "metadata": {
        "id": "cc1f3dac-5f42-4c0d-ae98-80dafb21bc25"
      },
      "source": [
        "# Recipe 1: Reading from CSVs and Other Delimited Files\n",
        "In this recipe, you will use the pandas.read_csv() function, which offers a large set\n",
        "of parameters that you will explore to ensure the data is properly read into a time series\n",
        "DataFrame. In addition, you will learn how to specify an index column, parse the index\n",
        "to be of the type DatetimeIndex, and parse string columns that contain dates into\n",
        "datetime objects"
      ]
    },
    {
      "cell_type": "code",
      "execution_count": null,
      "id": "0ecc3461-43e2-4c09-945c-033f8eff4342",
      "metadata": {
        "colab": {
          "base_uri": "https://localhost:8080/",
          "height": 35
        },
        "id": "0ecc3461-43e2-4c09-945c-033f8eff4342",
        "outputId": "4f0a186a-0dc5-4ead-ddce-7044990e7afb"
      },
      "outputs": [
        {
          "output_type": "execute_result",
          "data": {
            "text/plain": [
              "'1.3.5'"
            ],
            "application/vnd.google.colaboratory.intrinsic+json": {
              "type": "string"
            }
          },
          "metadata": {},
          "execution_count": 4
        }
      ],
      "source": [
        "import pandas as pd\n",
        "from pathlib import Path\n",
        "pd.__version__"
      ]
    },
    {
      "cell_type": "code",
      "execution_count": null,
      "id": "ffcaab98-7d62-4f82-97ed-85f8c1d8b820",
      "metadata": {
        "id": "ffcaab98-7d62-4f82-97ed-85f8c1d8b820"
      },
      "outputs": [],
      "source": [
        "filepath = Path('./movieboxoffice.csv')"
      ]
    },
    {
      "cell_type": "markdown",
      "source": [
        "The first column in the CSV file contains movie release dates, and it needs to\n",
        "be set as an index of type DatetimeIndex (index_col=0 and parse_\n",
        "dates=['Date']). Specify which columns you want to include by providing a list\n",
        "of column names to usecols. The default behavior is that the first row includes the\n",
        "header (header=0):"
      ],
      "metadata": {
        "id": "6xurLn9vjw0c"
      },
      "id": "6xurLn9vjw0c"
    },
    {
      "cell_type": "code",
      "execution_count": null,
      "id": "aa33d6f8-d21d-4c67-9231-97593196306d",
      "metadata": {
        "id": "aa33d6f8-d21d-4c67-9231-97593196306d",
        "outputId": "f6f92c17-4421-403c-9dce-69db6805ae62",
        "colab": {
          "base_uri": "https://localhost:8080/",
          "height": 237
        }
      },
      "outputs": [
        {
          "output_type": "execute_result",
          "data": {
            "text/plain": [
              "                 DOW         Daily      Forecast Percent Diff\n",
              "Date                                                         \n",
              "2021-04-26    Friday  $125,789.89   $235,036.46       -46.48%\n",
              "2021-04-27  Saturday   $99,374.01   $197,622.55       -49.72%\n",
              "2021-04-28    Sunday   $82,203.16   $116,991.26       -29.74%\n",
              "2021-04-29    Monday   $33,530.26    $66,652.65       -49.69%\n",
              "2021-04-30   Tuesday   $30,105.24    $34,828.19       -13.56%"
            ],
            "text/html": [
              "\n",
              "  <div id=\"df-8645195e-deea-4120-bea0-53178f91f34c\">\n",
              "    <div class=\"colab-df-container\">\n",
              "      <div>\n",
              "<style scoped>\n",
              "    .dataframe tbody tr th:only-of-type {\n",
              "        vertical-align: middle;\n",
              "    }\n",
              "\n",
              "    .dataframe tbody tr th {\n",
              "        vertical-align: top;\n",
              "    }\n",
              "\n",
              "    .dataframe thead th {\n",
              "        text-align: right;\n",
              "    }\n",
              "</style>\n",
              "<table border=\"1\" class=\"dataframe\">\n",
              "  <thead>\n",
              "    <tr style=\"text-align: right;\">\n",
              "      <th></th>\n",
              "      <th>DOW</th>\n",
              "      <th>Daily</th>\n",
              "      <th>Forecast</th>\n",
              "      <th>Percent Diff</th>\n",
              "    </tr>\n",
              "    <tr>\n",
              "      <th>Date</th>\n",
              "      <th></th>\n",
              "      <th></th>\n",
              "      <th></th>\n",
              "      <th></th>\n",
              "    </tr>\n",
              "  </thead>\n",
              "  <tbody>\n",
              "    <tr>\n",
              "      <th>2021-04-26</th>\n",
              "      <td>Friday</td>\n",
              "      <td>$125,789.89</td>\n",
              "      <td>$235,036.46</td>\n",
              "      <td>-46.48%</td>\n",
              "    </tr>\n",
              "    <tr>\n",
              "      <th>2021-04-27</th>\n",
              "      <td>Saturday</td>\n",
              "      <td>$99,374.01</td>\n",
              "      <td>$197,622.55</td>\n",
              "      <td>-49.72%</td>\n",
              "    </tr>\n",
              "    <tr>\n",
              "      <th>2021-04-28</th>\n",
              "      <td>Sunday</td>\n",
              "      <td>$82,203.16</td>\n",
              "      <td>$116,991.26</td>\n",
              "      <td>-29.74%</td>\n",
              "    </tr>\n",
              "    <tr>\n",
              "      <th>2021-04-29</th>\n",
              "      <td>Monday</td>\n",
              "      <td>$33,530.26</td>\n",
              "      <td>$66,652.65</td>\n",
              "      <td>-49.69%</td>\n",
              "    </tr>\n",
              "    <tr>\n",
              "      <th>2021-04-30</th>\n",
              "      <td>Tuesday</td>\n",
              "      <td>$30,105.24</td>\n",
              "      <td>$34,828.19</td>\n",
              "      <td>-13.56%</td>\n",
              "    </tr>\n",
              "  </tbody>\n",
              "</table>\n",
              "</div>\n",
              "      <button class=\"colab-df-convert\" onclick=\"convertToInteractive('df-8645195e-deea-4120-bea0-53178f91f34c')\"\n",
              "              title=\"Convert this dataframe to an interactive table.\"\n",
              "              style=\"display:none;\">\n",
              "        \n",
              "  <svg xmlns=\"http://www.w3.org/2000/svg\" height=\"24px\"viewBox=\"0 0 24 24\"\n",
              "       width=\"24px\">\n",
              "    <path d=\"M0 0h24v24H0V0z\" fill=\"none\"/>\n",
              "    <path d=\"M18.56 5.44l.94 2.06.94-2.06 2.06-.94-2.06-.94-.94-2.06-.94 2.06-2.06.94zm-11 1L8.5 8.5l.94-2.06 2.06-.94-2.06-.94L8.5 2.5l-.94 2.06-2.06.94zm10 10l.94 2.06.94-2.06 2.06-.94-2.06-.94-.94-2.06-.94 2.06-2.06.94z\"/><path d=\"M17.41 7.96l-1.37-1.37c-.4-.4-.92-.59-1.43-.59-.52 0-1.04.2-1.43.59L10.3 9.45l-7.72 7.72c-.78.78-.78 2.05 0 2.83L4 21.41c.39.39.9.59 1.41.59.51 0 1.02-.2 1.41-.59l7.78-7.78 2.81-2.81c.8-.78.8-2.07 0-2.86zM5.41 20L4 18.59l7.72-7.72 1.47 1.35L5.41 20z\"/>\n",
              "  </svg>\n",
              "      </button>\n",
              "      \n",
              "  <style>\n",
              "    .colab-df-container {\n",
              "      display:flex;\n",
              "      flex-wrap:wrap;\n",
              "      gap: 12px;\n",
              "    }\n",
              "\n",
              "    .colab-df-convert {\n",
              "      background-color: #E8F0FE;\n",
              "      border: none;\n",
              "      border-radius: 50%;\n",
              "      cursor: pointer;\n",
              "      display: none;\n",
              "      fill: #1967D2;\n",
              "      height: 32px;\n",
              "      padding: 0 0 0 0;\n",
              "      width: 32px;\n",
              "    }\n",
              "\n",
              "    .colab-df-convert:hover {\n",
              "      background-color: #E2EBFA;\n",
              "      box-shadow: 0px 1px 2px rgba(60, 64, 67, 0.3), 0px 1px 3px 1px rgba(60, 64, 67, 0.15);\n",
              "      fill: #174EA6;\n",
              "    }\n",
              "\n",
              "    [theme=dark] .colab-df-convert {\n",
              "      background-color: #3B4455;\n",
              "      fill: #D2E3FC;\n",
              "    }\n",
              "\n",
              "    [theme=dark] .colab-df-convert:hover {\n",
              "      background-color: #434B5C;\n",
              "      box-shadow: 0px 1px 3px 1px rgba(0, 0, 0, 0.15);\n",
              "      filter: drop-shadow(0px 1px 2px rgba(0, 0, 0, 0.3));\n",
              "      fill: #FFFFFF;\n",
              "    }\n",
              "  </style>\n",
              "\n",
              "      <script>\n",
              "        const buttonEl =\n",
              "          document.querySelector('#df-8645195e-deea-4120-bea0-53178f91f34c button.colab-df-convert');\n",
              "        buttonEl.style.display =\n",
              "          google.colab.kernel.accessAllowed ? 'block' : 'none';\n",
              "\n",
              "        async function convertToInteractive(key) {\n",
              "          const element = document.querySelector('#df-8645195e-deea-4120-bea0-53178f91f34c');\n",
              "          const dataTable =\n",
              "            await google.colab.kernel.invokeFunction('convertToInteractive',\n",
              "                                                     [key], {});\n",
              "          if (!dataTable) return;\n",
              "\n",
              "          const docLinkHtml = 'Like what you see? Visit the ' +\n",
              "            '<a target=\"_blank\" href=https://colab.research.google.com/notebooks/data_table.ipynb>data table notebook</a>'\n",
              "            + ' to learn more about interactive tables.';\n",
              "          element.innerHTML = '';\n",
              "          dataTable['output_type'] = 'display_data';\n",
              "          await google.colab.output.renderOutput(dataTable, element);\n",
              "          const docLink = document.createElement('div');\n",
              "          docLink.innerHTML = docLinkHtml;\n",
              "          element.appendChild(docLink);\n",
              "        }\n",
              "      </script>\n",
              "    </div>\n",
              "  </div>\n",
              "  "
            ]
          },
          "metadata": {},
          "execution_count": 12
        }
      ],
      "source": [
        "ts = pd.read_csv(filepath,\n",
        "                 header=0,\n",
        "             \n",
        "                 parse_dates=['Date'],\n",
        "                 index_col=0,\n",
        "                 usecols=['Date',\n",
        "                          'DOW',\n",
        "                          'Daily',\n",
        "                          'Forecast',\n",
        "                          'Percent Diff'])\n",
        "ts.head()"
      ]
    },
    {
      "cell_type": "markdown",
      "source": [
        "Print a summary of the DataFrame to check the index and column data types:"
      ],
      "metadata": {
        "id": "pTnTnzFUj-y6"
      },
      "id": "pTnTnzFUj-y6"
    },
    {
      "cell_type": "code",
      "execution_count": null,
      "id": "14b0182e-98be-4c79-8db9-2ed76a182813",
      "metadata": {
        "id": "14b0182e-98be-4c79-8db9-2ed76a182813",
        "outputId": "9f00744d-11dd-4fc5-c972-1a2e48570b95",
        "colab": {
          "base_uri": "https://localhost:8080/"
        }
      },
      "outputs": [
        {
          "output_type": "stream",
          "name": "stdout",
          "text": [
            "<class 'pandas.core.frame.DataFrame'>\n",
            "DatetimeIndex: 128 entries, 2021-04-26 to 2021-08-31\n",
            "Data columns (total 4 columns):\n",
            " #   Column        Non-Null Count  Dtype \n",
            "---  ------        --------------  ----- \n",
            " 0   DOW           128 non-null    object\n",
            " 1   Daily         128 non-null    object\n",
            " 2   Forecast      128 non-null    object\n",
            " 3   Percent Diff  128 non-null    object\n",
            "dtypes: object(4)\n",
            "memory usage: 5.0+ KB\n"
          ]
        }
      ],
      "source": [
        "ts.info()"
      ]
    },
    {
      "cell_type": "markdown",
      "id": "07775018-5134-4ec4-ac7b-68b5634eb9ad",
      "metadata": {
        "id": "07775018-5134-4ec4-ac7b-68b5634eb9ad"
      },
      "source": [
        "**Data Cleanup**\n",
        "Notice that the Date column is now an index (not a column) of type\n",
        "DatetimeIndex. Additionally, both Daily and Forecast columns have the\n",
        "wrong dtype inference. You would expect them to be of type float. The issue is\n",
        "due to the source CSV file containing dollar signs ($) and thousand separators (,)\n",
        "in both columns.To fix this, you need to remove both the dollar sign ($) and thousand separators (,)\n",
        "or any non-numeric character. You can accomplish this using str.replace(),\n",
        "which can take a regular expression to remove all non-numeric characters but\n",
        "exclude the period (.) for the decimal place. Removing these characters does not\n",
        "convert the dtype, so you will need to cast those two columns as a float dtype\n",
        "using .astype(float)"
      ]
    },
    {
      "cell_type": "code",
      "execution_count": null,
      "id": "df34d125-5ad8-41c2-a6c4-09145605891b",
      "metadata": {
        "id": "df34d125-5ad8-41c2-a6c4-09145605891b"
      },
      "outputs": [],
      "source": [
        "clean = lambda x: x.str.replace('[^\\d]', '', regex=True)                                                      \n",
        "c_df = ts[['Daily', 'Forecast']].apply(clean, axis=1)\n",
        "ts[['Daily', 'Forecast']] = c_df.astype(float)\n",
        "                                "
      ]
    },
    {
      "cell_type": "code",
      "execution_count": null,
      "id": "ae90d0a0-02e4-4a48-8bed-2fea8d612252",
      "metadata": {
        "id": "ae90d0a0-02e4-4a48-8bed-2fea8d612252",
        "outputId": "62917589-6358-486f-ea6e-df13f6a4ee7e",
        "colab": {
          "base_uri": "https://localhost:8080/",
          "height": 237
        }
      },
      "outputs": [
        {
          "output_type": "execute_result",
          "data": {
            "text/plain": [
              "                 DOW       Daily    Forecast Percent Diff\n",
              "Date                                                     \n",
              "2021-04-26    Friday  12578989.0  23503646.0      -46.48%\n",
              "2021-04-27  Saturday   9937401.0  19762255.0      -49.72%\n",
              "2021-04-28    Sunday   8220316.0  11699126.0      -29.74%\n",
              "2021-04-29    Monday   3353026.0   6665265.0      -49.69%\n",
              "2021-04-30   Tuesday   3010524.0   3482819.0      -13.56%"
            ],
            "text/html": [
              "\n",
              "  <div id=\"df-d6eb6bf9-5113-4f02-b516-f3fea8957f64\">\n",
              "    <div class=\"colab-df-container\">\n",
              "      <div>\n",
              "<style scoped>\n",
              "    .dataframe tbody tr th:only-of-type {\n",
              "        vertical-align: middle;\n",
              "    }\n",
              "\n",
              "    .dataframe tbody tr th {\n",
              "        vertical-align: top;\n",
              "    }\n",
              "\n",
              "    .dataframe thead th {\n",
              "        text-align: right;\n",
              "    }\n",
              "</style>\n",
              "<table border=\"1\" class=\"dataframe\">\n",
              "  <thead>\n",
              "    <tr style=\"text-align: right;\">\n",
              "      <th></th>\n",
              "      <th>DOW</th>\n",
              "      <th>Daily</th>\n",
              "      <th>Forecast</th>\n",
              "      <th>Percent Diff</th>\n",
              "    </tr>\n",
              "    <tr>\n",
              "      <th>Date</th>\n",
              "      <th></th>\n",
              "      <th></th>\n",
              "      <th></th>\n",
              "      <th></th>\n",
              "    </tr>\n",
              "  </thead>\n",
              "  <tbody>\n",
              "    <tr>\n",
              "      <th>2021-04-26</th>\n",
              "      <td>Friday</td>\n",
              "      <td>12578989.0</td>\n",
              "      <td>23503646.0</td>\n",
              "      <td>-46.48%</td>\n",
              "    </tr>\n",
              "    <tr>\n",
              "      <th>2021-04-27</th>\n",
              "      <td>Saturday</td>\n",
              "      <td>9937401.0</td>\n",
              "      <td>19762255.0</td>\n",
              "      <td>-49.72%</td>\n",
              "    </tr>\n",
              "    <tr>\n",
              "      <th>2021-04-28</th>\n",
              "      <td>Sunday</td>\n",
              "      <td>8220316.0</td>\n",
              "      <td>11699126.0</td>\n",
              "      <td>-29.74%</td>\n",
              "    </tr>\n",
              "    <tr>\n",
              "      <th>2021-04-29</th>\n",
              "      <td>Monday</td>\n",
              "      <td>3353026.0</td>\n",
              "      <td>6665265.0</td>\n",
              "      <td>-49.69%</td>\n",
              "    </tr>\n",
              "    <tr>\n",
              "      <th>2021-04-30</th>\n",
              "      <td>Tuesday</td>\n",
              "      <td>3010524.0</td>\n",
              "      <td>3482819.0</td>\n",
              "      <td>-13.56%</td>\n",
              "    </tr>\n",
              "  </tbody>\n",
              "</table>\n",
              "</div>\n",
              "      <button class=\"colab-df-convert\" onclick=\"convertToInteractive('df-d6eb6bf9-5113-4f02-b516-f3fea8957f64')\"\n",
              "              title=\"Convert this dataframe to an interactive table.\"\n",
              "              style=\"display:none;\">\n",
              "        \n",
              "  <svg xmlns=\"http://www.w3.org/2000/svg\" height=\"24px\"viewBox=\"0 0 24 24\"\n",
              "       width=\"24px\">\n",
              "    <path d=\"M0 0h24v24H0V0z\" fill=\"none\"/>\n",
              "    <path d=\"M18.56 5.44l.94 2.06.94-2.06 2.06-.94-2.06-.94-.94-2.06-.94 2.06-2.06.94zm-11 1L8.5 8.5l.94-2.06 2.06-.94-2.06-.94L8.5 2.5l-.94 2.06-2.06.94zm10 10l.94 2.06.94-2.06 2.06-.94-2.06-.94-.94-2.06-.94 2.06-2.06.94z\"/><path d=\"M17.41 7.96l-1.37-1.37c-.4-.4-.92-.59-1.43-.59-.52 0-1.04.2-1.43.59L10.3 9.45l-7.72 7.72c-.78.78-.78 2.05 0 2.83L4 21.41c.39.39.9.59 1.41.59.51 0 1.02-.2 1.41-.59l7.78-7.78 2.81-2.81c.8-.78.8-2.07 0-2.86zM5.41 20L4 18.59l7.72-7.72 1.47 1.35L5.41 20z\"/>\n",
              "  </svg>\n",
              "      </button>\n",
              "      \n",
              "  <style>\n",
              "    .colab-df-container {\n",
              "      display:flex;\n",
              "      flex-wrap:wrap;\n",
              "      gap: 12px;\n",
              "    }\n",
              "\n",
              "    .colab-df-convert {\n",
              "      background-color: #E8F0FE;\n",
              "      border: none;\n",
              "      border-radius: 50%;\n",
              "      cursor: pointer;\n",
              "      display: none;\n",
              "      fill: #1967D2;\n",
              "      height: 32px;\n",
              "      padding: 0 0 0 0;\n",
              "      width: 32px;\n",
              "    }\n",
              "\n",
              "    .colab-df-convert:hover {\n",
              "      background-color: #E2EBFA;\n",
              "      box-shadow: 0px 1px 2px rgba(60, 64, 67, 0.3), 0px 1px 3px 1px rgba(60, 64, 67, 0.15);\n",
              "      fill: #174EA6;\n",
              "    }\n",
              "\n",
              "    [theme=dark] .colab-df-convert {\n",
              "      background-color: #3B4455;\n",
              "      fill: #D2E3FC;\n",
              "    }\n",
              "\n",
              "    [theme=dark] .colab-df-convert:hover {\n",
              "      background-color: #434B5C;\n",
              "      box-shadow: 0px 1px 3px 1px rgba(0, 0, 0, 0.15);\n",
              "      filter: drop-shadow(0px 1px 2px rgba(0, 0, 0, 0.3));\n",
              "      fill: #FFFFFF;\n",
              "    }\n",
              "  </style>\n",
              "\n",
              "      <script>\n",
              "        const buttonEl =\n",
              "          document.querySelector('#df-d6eb6bf9-5113-4f02-b516-f3fea8957f64 button.colab-df-convert');\n",
              "        buttonEl.style.display =\n",
              "          google.colab.kernel.accessAllowed ? 'block' : 'none';\n",
              "\n",
              "        async function convertToInteractive(key) {\n",
              "          const element = document.querySelector('#df-d6eb6bf9-5113-4f02-b516-f3fea8957f64');\n",
              "          const dataTable =\n",
              "            await google.colab.kernel.invokeFunction('convertToInteractive',\n",
              "                                                     [key], {});\n",
              "          if (!dataTable) return;\n",
              "\n",
              "          const docLinkHtml = 'Like what you see? Visit the ' +\n",
              "            '<a target=\"_blank\" href=https://colab.research.google.com/notebooks/data_table.ipynb>data table notebook</a>'\n",
              "            + ' to learn more about interactive tables.';\n",
              "          element.innerHTML = '';\n",
              "          dataTable['output_type'] = 'display_data';\n",
              "          await google.colab.output.renderOutput(dataTable, element);\n",
              "          const docLink = document.createElement('div');\n",
              "          docLink.innerHTML = docLinkHtml;\n",
              "          element.appendChild(docLink);\n",
              "        }\n",
              "      </script>\n",
              "    </div>\n",
              "  </div>\n",
              "  "
            ]
          },
          "metadata": {},
          "execution_count": 15
        }
      ],
      "source": [
        "ts.head()"
      ]
    },
    {
      "cell_type": "code",
      "execution_count": null,
      "id": "3fa8c60e-c65e-48af-b6f7-86644492d107",
      "metadata": {
        "id": "3fa8c60e-c65e-48af-b6f7-86644492d107",
        "outputId": "a61ac224-6e21-4a5d-daf2-5888b7b4a718",
        "colab": {
          "base_uri": "https://localhost:8080/"
        }
      },
      "outputs": [
        {
          "output_type": "stream",
          "name": "stdout",
          "text": [
            "<class 'pandas.core.frame.DataFrame'>\n",
            "DatetimeIndex: 128 entries, 2021-04-26 to 2021-08-31\n",
            "Data columns (total 4 columns):\n",
            " #   Column        Non-Null Count  Dtype  \n",
            "---  ------        --------------  -----  \n",
            " 0   DOW           128 non-null    object \n",
            " 1   Daily         128 non-null    float64\n",
            " 2   Forecast      128 non-null    float64\n",
            " 3   Percent Diff  128 non-null    object \n",
            "dtypes: float64(2), object(2)\n",
            "memory usage: 5.0+ KB\n"
          ]
        }
      ],
      "source": [
        "ts.info()"
      ]
    },
    {
      "cell_type": "markdown",
      "source": [
        "To get the exact memory usage for each column, including the index, you can\n",
        "use the memory_usage() method:"
      ],
      "metadata": {
        "id": "IVk0yZzGmHqc"
      },
      "id": "IVk0yZzGmHqc"
    },
    {
      "cell_type": "code",
      "execution_count": null,
      "id": "367af7b5-e8e3-4fc6-aa25-48ab82c4eead",
      "metadata": {
        "id": "367af7b5-e8e3-4fc6-aa25-48ab82c4eead",
        "outputId": "d8c5c9a3-b268-4a57-9564-38ff1b94754c",
        "colab": {
          "base_uri": "https://localhost:8080/"
        }
      },
      "outputs": [
        {
          "output_type": "execute_result",
          "data": {
            "text/plain": [
              "Index           1024\n",
              "DOW             1024\n",
              "Daily           1024\n",
              "Forecast        1024\n",
              "Percent Diff    1024\n",
              "dtype: int64"
            ]
          },
          "metadata": {},
          "execution_count": 16
        }
      ],
      "source": [
        "ts.memory_usage()"
      ]
    },
    {
      "cell_type": "code",
      "execution_count": null,
      "id": "a8928d19-436c-4d5a-a662-c157ceb14496",
      "metadata": {
        "id": "a8928d19-436c-4d5a-a662-c157ceb14496",
        "outputId": "73bd7abd-827e-4f4f-fc44-71edc1dc628e",
        "colab": {
          "base_uri": "https://localhost:8080/"
        }
      },
      "outputs": [
        {
          "output_type": "execute_result",
          "data": {
            "text/plain": [
              "5120"
            ]
          },
          "metadata": {},
          "execution_count": 17
        }
      ],
      "source": [
        "ts.memory_usage().sum()"
      ]
    },
    {
      "cell_type": "markdown",
      "source": [
        "So far, you have used a few of the available parameters when reading a CSV file using\n",
        "read_csv."
      ],
      "metadata": {
        "id": "w_hgBpssmWmU"
      },
      "id": "w_hgBpssmWmU"
    },
    {
      "cell_type": "markdown",
      "id": "e6212e1e-caf4-47e9-b8f3-2db31a9ebcd8",
      "metadata": {
        "id": "e6212e1e-caf4-47e9-b8f3-2db31a9ebcd8"
      },
      "source": [
        "## Using `date_parser`"
      ]
    },
    {
      "cell_type": "code",
      "execution_count": null,
      "id": "5b4759cf-8747-405f-ba15-77cd10493a4c",
      "metadata": {
        "id": "5b4759cf-8747-405f-ba15-77cd10493a4c",
        "outputId": "c77ab017-d13d-497e-9c24-803341c96cd1",
        "colab": {
          "base_uri": "https://localhost:8080/"
        }
      },
      "outputs": [
        {
          "output_type": "execute_result",
          "data": {
            "text/plain": [
              "DOW              object\n",
              "Daily           float64\n",
              "Forecast        float64\n",
              "Percent Diff     object\n",
              "dtype: object"
            ]
          },
          "metadata": {},
          "execution_count": 20
        }
      ],
      "source": [
        "ts.dtypes"
      ]
    },
    {
      "cell_type": "markdown",
      "source": [
        "You can also pass a lambda function that uses the to_datetime function in\n",
        "pandas to date_parser. You can specify the string representation for the date format\n",
        "inside to_datetime(), as demonstrated in the following code:\n",
        "The preceding code will print out the first five rows of the ts DataFrame displaying\n",
        "a properly parsed Date index."
      ],
      "metadata": {
        "id": "K5WSxk9Jpxir"
      },
      "id": "K5WSxk9Jpxir"
    },
    {
      "cell_type": "code",
      "execution_count": null,
      "id": "ee32b5de-0b27-4512-8aab-d0c5ebfad850",
      "metadata": {
        "tags": [],
        "id": "ee32b5de-0b27-4512-8aab-d0c5ebfad850",
        "outputId": "672aac61-9d0d-41f8-c361-8f7409aab6f5"
      },
      "outputs": [
        {
          "data": {
            "text/html": [
              "<div>\n",
              "<style scoped>\n",
              "    .dataframe tbody tr th:only-of-type {\n",
              "        vertical-align: middle;\n",
              "    }\n",
              "\n",
              "    .dataframe tbody tr th {\n",
              "        vertical-align: top;\n",
              "    }\n",
              "\n",
              "    .dataframe thead th {\n",
              "        text-align: right;\n",
              "    }\n",
              "</style>\n",
              "<table border=\"1\" class=\"dataframe\">\n",
              "  <thead>\n",
              "    <tr style=\"text-align: right;\">\n",
              "      <th></th>\n",
              "      <th>DOW</th>\n",
              "      <th>Daily</th>\n",
              "      <th>Forecast</th>\n",
              "      <th>Percent Diff</th>\n",
              "    </tr>\n",
              "    <tr>\n",
              "      <th>Date</th>\n",
              "      <th></th>\n",
              "      <th></th>\n",
              "      <th></th>\n",
              "      <th></th>\n",
              "    </tr>\n",
              "  </thead>\n",
              "  <tbody>\n",
              "    <tr>\n",
              "      <th>2021-04-26</th>\n",
              "      <td>Friday</td>\n",
              "      <td>$125,789.89</td>\n",
              "      <td>$235,036.46</td>\n",
              "      <td>-46.48%</td>\n",
              "    </tr>\n",
              "    <tr>\n",
              "      <th>2021-04-27</th>\n",
              "      <td>Saturday</td>\n",
              "      <td>$99,374.01</td>\n",
              "      <td>$197,622.55</td>\n",
              "      <td>-49.72%</td>\n",
              "    </tr>\n",
              "    <tr>\n",
              "      <th>2021-04-28</th>\n",
              "      <td>Sunday</td>\n",
              "      <td>$82,203.16</td>\n",
              "      <td>$116,991.26</td>\n",
              "      <td>-29.74%</td>\n",
              "    </tr>\n",
              "    <tr>\n",
              "      <th>2021-04-29</th>\n",
              "      <td>Monday</td>\n",
              "      <td>$33,530.26</td>\n",
              "      <td>$66,652.65</td>\n",
              "      <td>-49.69%</td>\n",
              "    </tr>\n",
              "    <tr>\n",
              "      <th>2021-04-30</th>\n",
              "      <td>Tuesday</td>\n",
              "      <td>$30,105.24</td>\n",
              "      <td>$34,828.19</td>\n",
              "      <td>-13.56%</td>\n",
              "    </tr>\n",
              "  </tbody>\n",
              "</table>\n",
              "</div>"
            ],
            "text/plain": [
              "                 DOW         Daily      Forecast Percent Diff\n",
              "Date                                                         \n",
              "2021-04-26    Friday  $125,789.89   $235,036.46       -46.48%\n",
              "2021-04-27  Saturday   $99,374.01   $197,622.55       -49.72%\n",
              "2021-04-28    Sunday   $82,203.16   $116,991.26       -29.74%\n",
              "2021-04-29    Monday   $33,530.26    $66,652.65       -49.69%\n",
              "2021-04-30   Tuesday   $30,105.24    $34,828.19       -13.56%"
            ]
          },
          "execution_count": 11,
          "metadata": {},
          "output_type": "execute_result"
        }
      ],
      "source": [
        "date_parser = lambda x: pd.to_datetime(x, format=\"%d-%b-%y\")\n",
        "ts = pd.read_csv(filepath,\n",
        "                 parse_dates=[0],\n",
        "                 index_col=0,\n",
        "                 date_parser=date_parser,\n",
        "                 usecols=[0,1,3, 7, 6])\n",
        "ts.head()"
      ]
    },
    {
      "cell_type": "markdown",
      "source": [
        "Let's break it down. In the preceding code, you passed two arguments to the to_\n",
        "datetime function: the object to convert to datetime and an explicit format string.\n",
        "Since the date is stored as a string in the form 26-Apr-21, you passed \"%d-%b-%y\" to\n",
        "reflect that:\n",
        "* %d represents the day of the month, such as 01 or 02.\n",
        "* %b represents the abbreviated month name, such as Apr or May.\n",
        "* %y represents a two-digit year, such as 19 or 20."
      ],
      "metadata": {
        "id": "TFekAWW3p_o8"
      },
      "id": "TFekAWW3p_o8"
    },
    {
      "cell_type": "markdown",
      "id": "c1f2c015-77b6-4e59-b300-79df45c13c9f",
      "metadata": {
        "tags": [],
        "id": "c1f2c015-77b6-4e59-b300-79df45c13c9f"
      },
      "source": [
        "# Recipe 2: Reading data from an Excel file\n",
        "In this recipe, you will be using the pandas.read_excel() function and examining \n",
        "the various parameters available to ensure the data is read properly as a DataFrame with \n",
        "a DatetimeIndex for time series analysis. In addition, you will explore different options \n",
        "to read Excel files with multiple sheets"
      ]
    },
    {
      "cell_type": "markdown",
      "id": "6c348d1b-52a6-4a3a-9a7e-7fb4facba5fe",
      "metadata": {
        "id": "6c348d1b-52a6-4a3a-9a7e-7fb4facba5fe"
      },
      "source": [
        "* To install openpyxl using conda, run the following command in the terminal:\n",
        "\n",
        "```\n",
        "conda install openpyxl\n",
        "```\n",
        "* To install using pip, run the following command:\n",
        "\n",
        "```\n",
        "pip install openpyxl\n",
        "```"
      ]
    },
    {
      "cell_type": "code",
      "execution_count": null,
      "id": "aff3d06e-12de-4cc9-9785-ff2548c434ed",
      "metadata": {
        "id": "aff3d06e-12de-4cc9-9785-ff2548c434ed"
      },
      "outputs": [],
      "source": [
        "#!conda install openpyxl -y\n",
        "#!pip install openpyxl"
      ]
    },
    {
      "cell_type": "markdown",
      "source": [
        "Import the libraries for this recipe\n",
        "Read the Excel (.xlxs) file using the read_excel()function. "
      ],
      "metadata": {
        "id": "hA9vxkJFBg8s"
      },
      "id": "hA9vxkJFBg8s"
    },
    {
      "cell_type": "code",
      "execution_count": null,
      "id": "a4610e13-c484-4b65-af84-bc33da9c9ea4",
      "metadata": {
        "id": "a4610e13-c484-4b65-af84-bc33da9c9ea4"
      },
      "outputs": [],
      "source": [
        "import pandas as pd\n",
        "from pathlib import Path\n",
        "filepath = Path('../../datasets/Ch2/sales_trx_data.xlsx')"
      ]
    },
    {
      "cell_type": "code",
      "execution_count": null,
      "id": "93768b2a-bc9e-4a6a-8f72-cfdf6ec017f4",
      "metadata": {
        "id": "93768b2a-bc9e-4a6a-8f72-cfdf6ec017f4",
        "outputId": "b5c50cc7-dde1-4cf9-fa0b-a59676df8d74"
      },
      "outputs": [
        {
          "data": {
            "text/plain": [
              "'3.0.9'"
            ]
          },
          "execution_count": 14,
          "metadata": {},
          "output_type": "execute_result"
        }
      ],
      "source": [
        "import openpyxl\n",
        "openpyxl.__version__"
      ]
    },
    {
      "cell_type": "code",
      "execution_count": null,
      "id": "63bbe7dd-7677-4642-88a3-37c2861a031f",
      "metadata": {
        "id": "63bbe7dd-7677-4642-88a3-37c2861a031f",
        "outputId": "1670ec0f-6ab7-4f64-9f2d-c54cb3dbfc1c"
      },
      "outputs": [
        {
          "data": {
            "text/plain": [
              "['2017', '2018']"
            ]
          },
          "execution_count": 15,
          "metadata": {},
          "output_type": "execute_result"
        }
      ],
      "source": [
        "excelfile = pd.ExcelFile(filepath)\n",
        "excelfile.sheet_names"
      ]
    },
    {
      "cell_type": "markdown",
      "source": [],
      "metadata": {
        "id": "VfXu2hluCWrT"
      },
      "id": "VfXu2hluCWrT"
    },
    {
      "cell_type": "code",
      "execution_count": null,
      "id": "ce1c5c12-a858-4438-92dd-bc4b03b344e0",
      "metadata": {
        "id": "ce1c5c12-a858-4438-92dd-bc4b03b344e0",
        "outputId": "d8ec1c73-70c5-4ed3-81e6-8f776b2677d9"
      },
      "outputs": [
        {
          "data": {
            "text/html": [
              "<div>\n",
              "<style scoped>\n",
              "    .dataframe tbody tr th:only-of-type {\n",
              "        vertical-align: middle;\n",
              "    }\n",
              "\n",
              "    .dataframe tbody tr th {\n",
              "        vertical-align: top;\n",
              "    }\n",
              "\n",
              "    .dataframe thead th {\n",
              "        text-align: right;\n",
              "    }\n",
              "</style>\n",
              "<table border=\"1\" class=\"dataframe\">\n",
              "  <thead>\n",
              "    <tr style=\"text-align: right;\">\n",
              "      <th></th>\n",
              "      <th>Line_Item_ID</th>\n",
              "      <th>Date</th>\n",
              "      <th>Credit_Card_Number</th>\n",
              "      <th>Quantity</th>\n",
              "      <th>Menu_Item</th>\n",
              "    </tr>\n",
              "  </thead>\n",
              "  <tbody>\n",
              "    <tr>\n",
              "      <th>0</th>\n",
              "      <td>1</td>\n",
              "      <td>2017-01-01</td>\n",
              "      <td>7437926611570790</td>\n",
              "      <td>1</td>\n",
              "      <td>spicy miso ramen</td>\n",
              "    </tr>\n",
              "    <tr>\n",
              "      <th>1</th>\n",
              "      <td>2</td>\n",
              "      <td>2017-01-01</td>\n",
              "      <td>7437926611570790</td>\n",
              "      <td>1</td>\n",
              "      <td>spicy miso ramen</td>\n",
              "    </tr>\n",
              "    <tr>\n",
              "      <th>2</th>\n",
              "      <td>3</td>\n",
              "      <td>2017-01-01</td>\n",
              "      <td>8421920068932810</td>\n",
              "      <td>3</td>\n",
              "      <td>tori paitan ramen</td>\n",
              "    </tr>\n",
              "    <tr>\n",
              "      <th>3</th>\n",
              "      <td>4</td>\n",
              "      <td>2017-01-01</td>\n",
              "      <td>8421920068932810</td>\n",
              "      <td>3</td>\n",
              "      <td>tori paitan ramen</td>\n",
              "    </tr>\n",
              "    <tr>\n",
              "      <th>4</th>\n",
              "      <td>5</td>\n",
              "      <td>2017-01-01</td>\n",
              "      <td>4787310681569640</td>\n",
              "      <td>1</td>\n",
              "      <td>truffle butter ramen</td>\n",
              "    </tr>\n",
              "    <tr>\n",
              "      <th>...</th>\n",
              "      <td>...</td>\n",
              "      <td>...</td>\n",
              "      <td>...</td>\n",
              "      <td>...</td>\n",
              "      <td>...</td>\n",
              "    </tr>\n",
              "    <tr>\n",
              "      <th>36759</th>\n",
              "      <td>36760</td>\n",
              "      <td>2017-12-31</td>\n",
              "      <td>3149176814183170</td>\n",
              "      <td>4</td>\n",
              "      <td>vegetarian curry + king trumpet mushroom ramen</td>\n",
              "    </tr>\n",
              "    <tr>\n",
              "      <th>36760</th>\n",
              "      <td>36761</td>\n",
              "      <td>2017-12-31</td>\n",
              "      <td>2005206728506200</td>\n",
              "      <td>1</td>\n",
              "      <td>tonkotsu ramen</td>\n",
              "    </tr>\n",
              "    <tr>\n",
              "      <th>36761</th>\n",
              "      <td>36762</td>\n",
              "      <td>2017-12-31</td>\n",
              "      <td>2005206728506200</td>\n",
              "      <td>1</td>\n",
              "      <td>tonkotsu ramen</td>\n",
              "    </tr>\n",
              "    <tr>\n",
              "      <th>36762</th>\n",
              "      <td>36763</td>\n",
              "      <td>2017-12-31</td>\n",
              "      <td>1130414909788170</td>\n",
              "      <td>2</td>\n",
              "      <td>soft-shell miso crab ramen</td>\n",
              "    </tr>\n",
              "    <tr>\n",
              "      <th>36763</th>\n",
              "      <td>36764</td>\n",
              "      <td>2017-12-31</td>\n",
              "      <td>1130414909788170</td>\n",
              "      <td>2</td>\n",
              "      <td>soft-shell miso crab ramen</td>\n",
              "    </tr>\n",
              "  </tbody>\n",
              "</table>\n",
              "<p>36764 rows × 5 columns</p>\n",
              "</div>"
            ],
            "text/plain": [
              "       Line_Item_ID       Date  Credit_Card_Number  Quantity  \\\n",
              "0                 1 2017-01-01    7437926611570790         1   \n",
              "1                 2 2017-01-01    7437926611570790         1   \n",
              "2                 3 2017-01-01    8421920068932810         3   \n",
              "3                 4 2017-01-01    8421920068932810         3   \n",
              "4                 5 2017-01-01    4787310681569640         1   \n",
              "...             ...        ...                 ...       ...   \n",
              "36759         36760 2017-12-31    3149176814183170         4   \n",
              "36760         36761 2017-12-31    2005206728506200         1   \n",
              "36761         36762 2017-12-31    2005206728506200         1   \n",
              "36762         36763 2017-12-31    1130414909788170         2   \n",
              "36763         36764 2017-12-31    1130414909788170         2   \n",
              "\n",
              "                                            Menu_Item  \n",
              "0                                    spicy miso ramen  \n",
              "1                                    spicy miso ramen  \n",
              "2                                   tori paitan ramen  \n",
              "3                                   tori paitan ramen  \n",
              "4                                truffle butter ramen  \n",
              "...                                               ...  \n",
              "36759  vegetarian curry + king trumpet mushroom ramen  \n",
              "36760                                  tonkotsu ramen  \n",
              "36761                                  tonkotsu ramen  \n",
              "36762                      soft-shell miso crab ramen  \n",
              "36763                      soft-shell miso crab ramen  \n",
              "\n",
              "[36764 rows x 5 columns]"
            ]
          },
          "execution_count": 16,
          "metadata": {},
          "output_type": "execute_result"
        }
      ],
      "source": [
        "excelfile.parse('2017')"
      ]
    },
    {
      "cell_type": "markdown",
      "source": [
        " The sales data will be partitioned (split) by year, where each sheet contained sales for \n",
        "a particular year. In this case, concatenating the two DataFrames is a natural choice. The \n",
        "pandas.concat() function is like the DataFrame.append() function, in which the \n",
        "second DataFrame was added (appended) to the end of the first DataFrame."
      ],
      "metadata": {
        "id": "ubV44JeaFeSK"
      },
      "id": "ubV44JeaFeSK"
    },
    {
      "cell_type": "code",
      "execution_count": null,
      "id": "9d46ccf9-8921-44ac-823e-e58836d6cb84",
      "metadata": {
        "id": "9d46ccf9-8921-44ac-823e-e58836d6cb84",
        "outputId": "79457644-1271-4aae-b047-13da0659d5c5"
      },
      "outputs": [
        {
          "data": {
            "text/plain": [
              "dict_keys([0, 1])"
            ]
          },
          "execution_count": 17,
          "metadata": {},
          "output_type": "execute_result"
        }
      ],
      "source": [
        "ts = pd.read_excel(filepath,\n",
        "                    engine='openpyxl',\n",
        "                    index_col=1,\n",
        "                    sheet_name=[0,1],\n",
        "                    parse_dates=True)\n",
        "ts.keys()"
      ]
    },
    {
      "cell_type": "code",
      "execution_count": null,
      "id": "6e845a34-f261-4abd-a7ca-d7b78cf036b7",
      "metadata": {
        "id": "6e845a34-f261-4abd-a7ca-d7b78cf036b7",
        "outputId": "0e9da39c-d514-4b2c-f932-46a6f371fcfa"
      },
      "outputs": [
        {
          "data": {
            "text/plain": [
              "dict_keys(['2017', '2018'])"
            ]
          },
          "execution_count": 18,
          "metadata": {},
          "output_type": "execute_result"
        }
      ],
      "source": [
        "ts = pd.read_excel(filepath,\n",
        "                    engine='openpyxl',\n",
        "                    index_col=1,\n",
        "                    sheet_name=['2017','2018'],\n",
        "                    parse_dates=True)\n",
        "ts.keys()"
      ]
    },
    {
      "cell_type": "code",
      "execution_count": null,
      "id": "0fc089c3-cfeb-4ad4-8dd9-e032b3e4b5a8",
      "metadata": {
        "id": "0fc089c3-cfeb-4ad4-8dd9-e032b3e4b5a8",
        "outputId": "a3fa002a-7eef-48c3-9465-db9f3bbdaf8e"
      },
      "outputs": [
        {
          "data": {
            "text/plain": [
              "dict_keys(['2017', '2018'])"
            ]
          },
          "execution_count": 19,
          "metadata": {},
          "output_type": "execute_result"
        }
      ],
      "source": [
        "ts = pd.read_excel(filepath,\n",
        "                    engine='openpyxl',\n",
        "                    index_col=1,\n",
        "                    sheet_name=None,\n",
        "                    parse_dates=True)\n",
        "ts.keys()"
      ]
    },
    {
      "cell_type": "code",
      "execution_count": null,
      "id": "532a5897-53eb-475f-914c-5a6c38c0f442",
      "metadata": {
        "id": "532a5897-53eb-475f-914c-5a6c38c0f442",
        "outputId": "d55f6f47-0e81-41b5-9d53-da2f8592a265"
      },
      "outputs": [
        {
          "name": "stdout",
          "output_type": "stream",
          "text": [
            "<class 'pandas.core.frame.DataFrame'>\n",
            "DatetimeIndex: 36764 entries, 2017-01-01 to 2017-12-31\n",
            "Data columns (total 4 columns):\n",
            " #   Column              Non-Null Count  Dtype \n",
            "---  ------              --------------  ----- \n",
            " 0   Line_Item_ID        36764 non-null  int64 \n",
            " 1   Credit_Card_Number  36764 non-null  int64 \n",
            " 2   Quantity            36764 non-null  int64 \n",
            " 3   Menu_Item           36764 non-null  object\n",
            "dtypes: int64(3), object(1)\n",
            "memory usage: 1.4+ MB\n"
          ]
        }
      ],
      "source": [
        "ts['2017'].info()"
      ]
    },
    {
      "cell_type": "code",
      "execution_count": null,
      "id": "acd9b6a2-e291-4172-8310-027fbda6c880",
      "metadata": {
        "id": "acd9b6a2-e291-4172-8310-027fbda6c880",
        "outputId": "eb84e9c6-7b67-4665-da43-6f3ecdd35947"
      },
      "outputs": [
        {
          "name": "stdout",
          "output_type": "stream",
          "text": [
            "<class 'pandas.core.frame.DataFrame'>\n",
            "DatetimeIndex: 37360 entries, 2018-01-01 to 2018-12-31\n",
            "Data columns (total 4 columns):\n",
            " #   Column              Non-Null Count  Dtype \n",
            "---  ------              --------------  ----- \n",
            " 0   Line_Item_ID        37360 non-null  int64 \n",
            " 1   Credit_Card_Number  37360 non-null  int64 \n",
            " 2   Quantity            37360 non-null  int64 \n",
            " 3   Menu_Item           37360 non-null  object\n",
            "dtypes: int64(3), object(1)\n",
            "memory usage: 1.4+ MB\n"
          ]
        }
      ],
      "source": [
        "ts['2018'].info()"
      ]
    },
    {
      "cell_type": "code",
      "execution_count": null,
      "id": "8bb16eb6-c6e7-4e27-aa5f-4c8003ace5a0",
      "metadata": {
        "id": "8bb16eb6-c6e7-4e27-aa5f-4c8003ace5a0"
      },
      "outputs": [],
      "source": [
        "ts_combined = pd.concat([ts['2017'],ts['2018']])"
      ]
    },
    {
      "cell_type": "code",
      "execution_count": null,
      "id": "966a7f86-abce-49ca-846d-3f1f2f9f02d6",
      "metadata": {
        "id": "966a7f86-abce-49ca-846d-3f1f2f9f02d6",
        "outputId": "370727ab-afbd-4d56-a75b-e88dfca79e5c"
      },
      "outputs": [
        {
          "name": "stdout",
          "output_type": "stream",
          "text": [
            "<class 'pandas.core.frame.DataFrame'>\n",
            "DatetimeIndex: 74124 entries, 2017-01-01 to 2018-12-31\n",
            "Data columns (total 4 columns):\n",
            " #   Column              Non-Null Count  Dtype \n",
            "---  ------              --------------  ----- \n",
            " 0   Line_Item_ID        74124 non-null  int64 \n",
            " 1   Credit_Card_Number  74124 non-null  int64 \n",
            " 2   Quantity            74124 non-null  int64 \n",
            " 3   Menu_Item           74124 non-null  object\n",
            "dtypes: int64(3), object(1)\n",
            "memory usage: 2.8+ MB\n"
          ]
        }
      ],
      "source": [
        "ts_combined.info()"
      ]
    },
    {
      "cell_type": "code",
      "execution_count": null,
      "id": "3ddc8ab9-a868-475c-8d88-f6b7113d5892",
      "metadata": {
        "id": "3ddc8ab9-a868-475c-8d88-f6b7113d5892",
        "outputId": "8b185e90-ceb6-49fd-9840-ba009455195f"
      },
      "outputs": [
        {
          "data": {
            "text/plain": [
              "MultiIndex([('2017', '2017-01-01'),\n",
              "            ('2017', '2017-01-01'),\n",
              "            ('2017', '2017-01-01'),\n",
              "            ('2017', '2017-01-01'),\n",
              "            ('2017', '2017-01-01'),\n",
              "            ('2017', '2017-01-01'),\n",
              "            ('2017', '2017-01-01'),\n",
              "            ('2017', '2017-01-01'),\n",
              "            ('2017', '2017-01-01'),\n",
              "            ('2017', '2017-01-01'),\n",
              "            ...\n",
              "            ('2018', '2018-12-31'),\n",
              "            ('2018', '2018-12-31'),\n",
              "            ('2018', '2018-12-31'),\n",
              "            ('2018', '2018-12-31'),\n",
              "            ('2018', '2018-12-31'),\n",
              "            ('2018', '2018-12-31'),\n",
              "            ('2018', '2018-12-31'),\n",
              "            ('2018', '2018-12-31'),\n",
              "            ('2018', '2018-12-31'),\n",
              "            ('2018', '2018-12-31')],\n",
              "           names=[None, 'Date'], length=74124)"
            ]
          },
          "execution_count": 24,
          "metadata": {},
          "output_type": "execute_result"
        }
      ],
      "source": [
        "pd.concat(ts).index"
      ]
    },
    {
      "cell_type": "markdown",
      "source": [
        "To reduce the number of levels, you can use the droplevel(level=0) method \n",
        "to drop the first level after pandas .concat() shown as follows"
      ],
      "metadata": {
        "id": "ZqHkDfF0GU11"
      },
      "id": "ZqHkDfF0GU11"
    },
    {
      "cell_type": "code",
      "execution_count": null,
      "id": "c5e27638-bd4f-418f-95c9-da6c552e973c",
      "metadata": {
        "id": "c5e27638-bd4f-418f-95c9-da6c552e973c",
        "outputId": "1d411536-50da-434e-aa5e-14f9530802a7"
      },
      "outputs": [
        {
          "data": {
            "text/html": [
              "<div>\n",
              "<style scoped>\n",
              "    .dataframe tbody tr th:only-of-type {\n",
              "        vertical-align: middle;\n",
              "    }\n",
              "\n",
              "    .dataframe tbody tr th {\n",
              "        vertical-align: top;\n",
              "    }\n",
              "\n",
              "    .dataframe thead th {\n",
              "        text-align: right;\n",
              "    }\n",
              "</style>\n",
              "<table border=\"1\" class=\"dataframe\">\n",
              "  <thead>\n",
              "    <tr style=\"text-align: right;\">\n",
              "      <th></th>\n",
              "      <th>Line_Item_ID</th>\n",
              "      <th>Credit_Card_Number</th>\n",
              "      <th>Quantity</th>\n",
              "      <th>Menu_Item</th>\n",
              "    </tr>\n",
              "    <tr>\n",
              "      <th>Date</th>\n",
              "      <th></th>\n",
              "      <th></th>\n",
              "      <th></th>\n",
              "      <th></th>\n",
              "    </tr>\n",
              "  </thead>\n",
              "  <tbody>\n",
              "    <tr>\n",
              "      <th>2017-01-01</th>\n",
              "      <td>1</td>\n",
              "      <td>7437926611570790</td>\n",
              "      <td>1</td>\n",
              "      <td>spicy miso ramen</td>\n",
              "    </tr>\n",
              "    <tr>\n",
              "      <th>2017-01-01</th>\n",
              "      <td>2</td>\n",
              "      <td>7437926611570790</td>\n",
              "      <td>1</td>\n",
              "      <td>spicy miso ramen</td>\n",
              "    </tr>\n",
              "    <tr>\n",
              "      <th>2017-01-01</th>\n",
              "      <td>3</td>\n",
              "      <td>8421920068932810</td>\n",
              "      <td>3</td>\n",
              "      <td>tori paitan ramen</td>\n",
              "    </tr>\n",
              "    <tr>\n",
              "      <th>2017-01-01</th>\n",
              "      <td>4</td>\n",
              "      <td>8421920068932810</td>\n",
              "      <td>3</td>\n",
              "      <td>tori paitan ramen</td>\n",
              "    </tr>\n",
              "    <tr>\n",
              "      <th>2017-01-01</th>\n",
              "      <td>5</td>\n",
              "      <td>4787310681569640</td>\n",
              "      <td>1</td>\n",
              "      <td>truffle butter ramen</td>\n",
              "    </tr>\n",
              "  </tbody>\n",
              "</table>\n",
              "</div>"
            ],
            "text/plain": [
              "            Line_Item_ID  Credit_Card_Number  Quantity             Menu_Item\n",
              "Date                                                                        \n",
              "2017-01-01             1    7437926611570790         1      spicy miso ramen\n",
              "2017-01-01             2    7437926611570790         1      spicy miso ramen\n",
              "2017-01-01             3    8421920068932810         3     tori paitan ramen\n",
              "2017-01-01             4    8421920068932810         3     tori paitan ramen\n",
              "2017-01-01             5    4787310681569640         1  truffle butter ramen"
            ]
          },
          "execution_count": 25,
          "metadata": {},
          "output_type": "execute_result"
        }
      ],
      "source": [
        "ts_combined = pd.concat(ts).droplevel(level=0)\n",
        "ts_combined.head()"
      ]
    },
    {
      "cell_type": "code",
      "execution_count": null,
      "id": "31b66f18-eead-4210-b3f0-05e57fa12ba4",
      "metadata": {
        "id": "31b66f18-eead-4210-b3f0-05e57fa12ba4",
        "outputId": "fa4d6f32-eba5-4095-aedd-c983ce384a19"
      },
      "outputs": [
        {
          "data": {
            "text/plain": [
              "pandas.core.frame.DataFrame"
            ]
          },
          "execution_count": 26,
          "metadata": {},
          "output_type": "execute_result"
        }
      ],
      "source": [
        "ts = pd.read_excel(filepath,\n",
        "                   index_col=1,\n",
        "                   sheet_name='2018',\n",
        "                   parse_dates=True)\n",
        "type(ts)"
      ]
    },
    {
      "cell_type": "markdown",
      "id": "1de33298-bccc-4d86-a827-39b8bc4d8376",
      "metadata": {
        "id": "1de33298-bccc-4d86-a827-39b8bc4d8376"
      },
      "source": [
        "## There is more\n",
        "* Using `ExcelFile`"
      ]
    },
    {
      "cell_type": "code",
      "execution_count": null,
      "id": "1655b775-cd6c-4f28-8ed4-7e8b89e0e460",
      "metadata": {
        "id": "1655b775-cd6c-4f28-8ed4-7e8b89e0e460",
        "outputId": "56a1e7b8-e9ff-4332-8ec3-3b39428c4d4a"
      },
      "outputs": [
        {
          "data": {
            "text/html": [
              "<div>\n",
              "<style scoped>\n",
              "    .dataframe tbody tr th:only-of-type {\n",
              "        vertical-align: middle;\n",
              "    }\n",
              "\n",
              "    .dataframe tbody tr th {\n",
              "        vertical-align: top;\n",
              "    }\n",
              "\n",
              "    .dataframe thead th {\n",
              "        text-align: right;\n",
              "    }\n",
              "</style>\n",
              "<table border=\"1\" class=\"dataframe\">\n",
              "  <thead>\n",
              "    <tr style=\"text-align: right;\">\n",
              "      <th></th>\n",
              "      <th>Line_Item_ID</th>\n",
              "      <th>Credit_Card_Number</th>\n",
              "      <th>Quantity</th>\n",
              "      <th>Menu_Item</th>\n",
              "    </tr>\n",
              "    <tr>\n",
              "      <th>Date</th>\n",
              "      <th></th>\n",
              "      <th></th>\n",
              "      <th></th>\n",
              "      <th></th>\n",
              "    </tr>\n",
              "  </thead>\n",
              "  <tbody>\n",
              "    <tr>\n",
              "      <th>2017-01-01</th>\n",
              "      <td>1</td>\n",
              "      <td>7437926611570790</td>\n",
              "      <td>1</td>\n",
              "      <td>spicy miso ramen</td>\n",
              "    </tr>\n",
              "    <tr>\n",
              "      <th>2017-01-01</th>\n",
              "      <td>2</td>\n",
              "      <td>7437926611570790</td>\n",
              "      <td>1</td>\n",
              "      <td>spicy miso ramen</td>\n",
              "    </tr>\n",
              "    <tr>\n",
              "      <th>2017-01-01</th>\n",
              "      <td>3</td>\n",
              "      <td>8421920068932810</td>\n",
              "      <td>3</td>\n",
              "      <td>tori paitan ramen</td>\n",
              "    </tr>\n",
              "    <tr>\n",
              "      <th>2017-01-01</th>\n",
              "      <td>4</td>\n",
              "      <td>8421920068932810</td>\n",
              "      <td>3</td>\n",
              "      <td>tori paitan ramen</td>\n",
              "    </tr>\n",
              "    <tr>\n",
              "      <th>2017-01-01</th>\n",
              "      <td>5</td>\n",
              "      <td>4787310681569640</td>\n",
              "      <td>1</td>\n",
              "      <td>truffle butter ramen</td>\n",
              "    </tr>\n",
              "  </tbody>\n",
              "</table>\n",
              "</div>"
            ],
            "text/plain": [
              "            Line_Item_ID  Credit_Card_Number  Quantity             Menu_Item\n",
              "Date                                                                        \n",
              "2017-01-01             1    7437926611570790         1      spicy miso ramen\n",
              "2017-01-01             2    7437926611570790         1      spicy miso ramen\n",
              "2017-01-01             3    8421920068932810         3     tori paitan ramen\n",
              "2017-01-01             4    8421920068932810         3     tori paitan ramen\n",
              "2017-01-01             5    4787310681569640         1  truffle butter ramen"
            ]
          },
          "execution_count": 27,
          "metadata": {},
          "output_type": "execute_result"
        }
      ],
      "source": [
        "excelfile = pd.ExcelFile(filepath)\n",
        "excelfile.parse(sheet_name='2017',\n",
        "                index_col=1,\n",
        "                parse_dates=True).head()\n"
      ]
    },
    {
      "cell_type": "markdown",
      "id": "cb565e22-12c8-44c8-8c66-5e7b91f28275",
      "metadata": {
        "id": "cb565e22-12c8-44c8-8c66-5e7b91f28275"
      },
      "source": [
        "# Recipe 3: Reading data from a URL\n",
        "* Many of the pandas reader functions can read data from remote locations by passing \n",
        "a URL path. \n",
        "* For example, both read_csv() and read_excel() can take a URL to \n",
        "read a file that is accessible via the internet. In this recipe, you will read a CSV file using \n",
        "pandas.read_csv() and Excel files using pandas.read_excel() from remote \n",
        "locations, such as GitHub and AWS S3 (private and public buckets). \n",
        "* You will also read data directly from an HTML page into a pandas DataFrame"
      ]
    },
    {
      "cell_type": "code",
      "execution_count": null,
      "id": "00bf2d0a-389a-4efd-ac70-af9cb4a74fbd",
      "metadata": {
        "id": "00bf2d0a-389a-4efd-ac70-af9cb4a74fbd"
      },
      "outputs": [],
      "source": [
        "#!conda install boto3 s3fs html5lib lxml -y\n",
        "#!pip install boto3 s3fs html5lib lxml"
      ]
    },
    {
      "cell_type": "markdown",
      "id": "d0d2d40d-e29b-499d-903f-ecf96fdf3b66",
      "metadata": {
        "id": "d0d2d40d-e29b-499d-903f-ecf96fdf3b66"
      },
      "source": [
        "* To install using pip, you can use the following command:\n",
        "\n",
        "```\n",
        "pip install boto3 s3fs lxml\n",
        "```\n",
        "\n",
        "* To install using Conda, you can use:\n",
        "\n",
        "```\n",
        "conda install boto3 s3fs lxml -y\n",
        "```"
      ]
    },
    {
      "cell_type": "code",
      "execution_count": null,
      "id": "0df2d7c3-ef1e-4101-890d-50ce9cfdb9cc",
      "metadata": {
        "id": "0df2d7c3-ef1e-4101-890d-50ce9cfdb9cc"
      },
      "outputs": [],
      "source": [
        "import pandas as pd"
      ]
    },
    {
      "cell_type": "code",
      "execution_count": null,
      "id": "630d3248-b8a4-4c16-a59b-7b496a7689a8",
      "metadata": {
        "id": "630d3248-b8a4-4c16-a59b-7b496a7689a8",
        "outputId": "45bd4e17-fa9f-4653-ba2e-3327caaf8bbc"
      },
      "outputs": [
        {
          "name": "stdout",
          "output_type": "stream",
          "text": [
            "\n",
            "pandas -> 1.3.4\n",
            "boto3 -> 1.20.24\n",
            "s3fs -> 2022.01.0\n",
            "lxml -> 4.8.0\n",
            "\n"
          ]
        }
      ],
      "source": [
        "import pandas as pd\n",
        "import  lxml\n",
        "print(f'''\n",
        "pandas -> {pd.__version__}\n",
        "lxml -> {lxml.__version__}\n",
        "''')"
      ]
    },
    {
      "cell_type": "markdown",
      "id": "26f56e5a-a01d-482f-b5b0-e7cf8a677e80",
      "metadata": {
        "id": "26f56e5a-a01d-482f-b5b0-e7cf8a677e80"
      },
      "source": [
        "## Reading from GitHub\n",
        "* This is most important part since you'll be using it frequently in your project to read the data from the project's github page\n",
        "*To read a CSV file from GitHub, you will need the URL to the raw content. If you \n",
        "copy the file's GitHub URL from the browser and use it as the file path, you will get \n",
        "a URL that looks like this: https://github.com/FuTSA23/time-series-analysis-datasets/blob/main/AirQualityUCI.csv  This URL is a pointer to the web page in GitHub and \n",
        "not the data itself; hence when using pd.read_csv(), it will throw an error"
      ]
    },
    {
      "cell_type": "code",
      "execution_count": null,
      "id": "c208b0e8-7f40-4f2b-938b-6b538492cd8b",
      "metadata": {
        "id": "c208b0e8-7f40-4f2b-938b-6b538492cd8b"
      },
      "outputs": [],
      "source": [
        "# example of produced error\n",
        "url = 'https://github.com/FuTSA23/time-series-analysis-datasets/blob/main/AirQualityUCI.csv'\n",
        "# pd.read_csv(url)\n"
      ]
    },
    {
      "cell_type": "markdown",
      "source": [
        "Instead, you will need the raw content, which will give you a URL that \n",
        "looks like this:\n",
        "The first column in the file is the Date column. You will need to parse (parse_\n",
        "date parameter) and convert it to DatetimeIndex (index_col parameter)."
      ],
      "metadata": {
        "id": "lHblt-_nMO6T"
      },
      "id": "lHblt-_nMO6T"
    },
    {
      "cell_type": "code",
      "execution_count": null,
      "id": "1578a313-df89-4d15-81c0-511f50f49c4b",
      "metadata": {
        "id": "1578a313-df89-4d15-81c0-511f50f49c4b",
        "outputId": "882bdbb4-705a-45ea-f69d-0b704912f3b2"
      },
      "outputs": [
        {
          "data": {
            "text/html": [
              "<div>\n",
              "<style scoped>\n",
              "    .dataframe tbody tr th:only-of-type {\n",
              "        vertical-align: middle;\n",
              "    }\n",
              "\n",
              "    .dataframe tbody tr th {\n",
              "        vertical-align: top;\n",
              "    }\n",
              "\n",
              "    .dataframe thead th {\n",
              "        text-align: right;\n",
              "    }\n",
              "</style>\n",
              "<table border=\"1\" class=\"dataframe\">\n",
              "  <thead>\n",
              "    <tr style=\"text-align: right;\">\n",
              "      <th></th>\n",
              "      <th>CO(GT)</th>\n",
              "      <th>PT08.S1(CO)</th>\n",
              "      <th>NMHC(GT)</th>\n",
              "    </tr>\n",
              "    <tr>\n",
              "      <th>Date</th>\n",
              "      <th></th>\n",
              "      <th></th>\n",
              "      <th></th>\n",
              "    </tr>\n",
              "  </thead>\n",
              "  <tbody>\n",
              "    <tr>\n",
              "      <th>2004-03-10</th>\n",
              "      <td>2.6</td>\n",
              "      <td>1360.00</td>\n",
              "      <td>150</td>\n",
              "    </tr>\n",
              "    <tr>\n",
              "      <th>2004-03-10</th>\n",
              "      <td>2.0</td>\n",
              "      <td>1292.25</td>\n",
              "      <td>112</td>\n",
              "    </tr>\n",
              "    <tr>\n",
              "      <th>2004-03-10</th>\n",
              "      <td>2.2</td>\n",
              "      <td>1402.00</td>\n",
              "      <td>88</td>\n",
              "    </tr>\n",
              "  </tbody>\n",
              "</table>\n",
              "</div>"
            ],
            "text/plain": [
              "            CO(GT)  PT08.S1(CO)  NMHC(GT)\n",
              "Date                                     \n",
              "2004-03-10     2.6      1360.00       150\n",
              "2004-03-10     2.0      1292.25       112\n",
              "2004-03-10     2.2      1402.00        88"
            ]
          },
          "execution_count": 2,
          "metadata": {},
          "output_type": "execute_result"
        }
      ],
      "source": [
        "url = 'https://github.com/FuTSA23/time-series-analysis-datasets/blob/main/AirQualityUCI.csv'\n",
        "date_parser = lambda x: pd.to_datetime(x, format=\"%d/%m/%Y\")\n",
        "\n",
        "df = pd.read_csv(url,\n",
        "                 delimiter=';',\n",
        "                 index_col='Date',\n",
        "                 date_parser=date_parser)\n",
        "\n",
        "df.iloc[:3,1:4]"
      ]
    },
    {
      "cell_type": "markdown",
      "id": "2c968bed-9693-44e0-b537-feca8fb867bf",
      "metadata": {
        "id": "2c968bed-9693-44e0-b537-feca8fb867bf"
      },
      "source": [
        "## Reading from HTML\n",
        "pandas offers an elegant way to read HTML tables and convert the content into a pandas \n",
        "DataFrame using the pandas.read_html() function: \n",
        "* In the following recipe, we will extract HTML tables from Wikipedia for COVID-19 \n",
        "pandemic tracking cases by country and by territory (https://en.wikipedia.\n",
        "org/wiki/COVID-19_pandemic_by_country_and_territory)"
      ]
    },
    {
      "cell_type": "code",
      "execution_count": null,
      "id": "ae29ee75-aa23-47d6-80c4-a7cf64c1105d",
      "metadata": {
        "id": "ae29ee75-aa23-47d6-80c4-a7cf64c1105d",
        "outputId": "98fe9992-47ea-4c6b-f438-623ea6daec89"
      },
      "outputs": [
        {
          "name": "stdout",
          "output_type": "stream",
          "text": [
            "71\n"
          ]
        }
      ],
      "source": [
        "url = \"https://en.wikipedia.org/wiki/COVID-19_pandemic_by_country_and_territory\"\n",
        "results = pd.read_html(url)\n",
        "print(len(results))\n"
      ]
    },
    {
      "cell_type": "code",
      "execution_count": null,
      "id": "15dc2aae-add1-49e6-9e4f-ef5d61cd70fb",
      "metadata": {
        "id": "15dc2aae-add1-49e6-9e4f-ef5d61cd70fb"
      },
      "outputs": [],
      "source": [
        "# for i, k in enumerate(results):\n",
        "#     print(i)\n",
        "#     display(k.head())\n",
        "    "
      ]
    },
    {
      "cell_type": "code",
      "execution_count": null,
      "id": "f414af1b-eb6d-48c6-81ff-b565dc7c276e",
      "metadata": {
        "id": "f414af1b-eb6d-48c6-81ff-b565dc7c276e",
        "outputId": "6152dd4f-fcee-4a3a-dd3b-e128a960f013"
      },
      "outputs": [
        {
          "data": {
            "text/plain": [
              "Index(['Region[28]', 'Total cases', 'Total deaths', 'Cases per million',\n",
              "       'Deaths per million', 'Current weekly cases', 'Current weekly deaths',\n",
              "       'Population millions', 'Vaccinated %[29]'],\n",
              "      dtype='object')"
            ]
          },
          "execution_count": 44,
          "metadata": {},
          "output_type": "execute_result"
        }
      ],
      "source": [
        "df = results[15]\n",
        "df.columns"
      ]
    },
    {
      "cell_type": "code",
      "execution_count": null,
      "id": "37776cd9-8f76-4118-accb-ddec1375364b",
      "metadata": {
        "id": "37776cd9-8f76-4118-accb-ddec1375364b",
        "outputId": "a1b271a2-7adb-4f25-9c03-f574a3f74637"
      },
      "outputs": [
        {
          "data": {
            "text/html": [
              "<div>\n",
              "<style scoped>\n",
              "    .dataframe tbody tr th:only-of-type {\n",
              "        vertical-align: middle;\n",
              "    }\n",
              "\n",
              "    .dataframe tbody tr th {\n",
              "        vertical-align: top;\n",
              "    }\n",
              "\n",
              "    .dataframe thead th {\n",
              "        text-align: right;\n",
              "    }\n",
              "</style>\n",
              "<table border=\"1\" class=\"dataframe\">\n",
              "  <thead>\n",
              "    <tr style=\"text-align: right;\">\n",
              "      <th></th>\n",
              "      <th>Total cases</th>\n",
              "      <th>Total deaths</th>\n",
              "      <th>Cases per million</th>\n",
              "    </tr>\n",
              "  </thead>\n",
              "  <tbody>\n",
              "    <tr>\n",
              "      <th>0</th>\n",
              "      <td>141222709</td>\n",
              "      <td>1090244</td>\n",
              "      <td>315709</td>\n",
              "    </tr>\n",
              "    <tr>\n",
              "      <th>1</th>\n",
              "      <td>87015319</td>\n",
              "      <td>1041592</td>\n",
              "      <td>235937</td>\n",
              "    </tr>\n",
              "    <tr>\n",
              "      <th>2</th>\n",
              "      <td>51658794</td>\n",
              "      <td>478860</td>\n",
              "      <td>221103</td>\n",
              "    </tr>\n",
              "    <tr>\n",
              "      <th>3</th>\n",
              "      <td>57294104</td>\n",
              "      <td>1272395</td>\n",
              "      <td>133281</td>\n",
              "    </tr>\n",
              "    <tr>\n",
              "      <th>4</th>\n",
              "      <td>22107880</td>\n",
              "      <td>420389</td>\n",
              "      <td>93363</td>\n",
              "    </tr>\n",
              "  </tbody>\n",
              "</table>\n",
              "</div>"
            ],
            "text/plain": [
              "   Total cases  Total deaths  Cases per million\n",
              "0    141222709       1090244             315709\n",
              "1     87015319       1041592             235937\n",
              "2     51658794        478860             221103\n",
              "3     57294104       1272395             133281\n",
              "4     22107880        420389              93363"
            ]
          },
          "execution_count": 45,
          "metadata": {},
          "output_type": "execute_result"
        }
      ],
      "source": [
        "df[['Total cases', 'Total deaths', 'Cases per million']].head()"
      ]
    },
    {
      "cell_type": "markdown",
      "id": "8e5c18bb-b7e3-4d54-9338-9631f4dc4cbc",
      "metadata": {
        "id": "8e5c18bb-b7e3-4d54-9338-9631f4dc4cbc"
      },
      "source": [
        "## Example how `read_html()` works"
      ]
    },
    {
      "cell_type": "code",
      "execution_count": null,
      "id": "2b53a57e-8a60-4a56-bfda-45c30e565d2a",
      "metadata": {
        "id": "2b53a57e-8a60-4a56-bfda-45c30e565d2a",
        "outputId": "7241cf14-f8dc-41d8-ffbd-682acfb4f128"
      },
      "outputs": [
        {
          "data": {
            "text/html": [
              "<div>\n",
              "<style scoped>\n",
              "    .dataframe tbody tr th:only-of-type {\n",
              "        vertical-align: middle;\n",
              "    }\n",
              "\n",
              "    .dataframe tbody tr th {\n",
              "        vertical-align: top;\n",
              "    }\n",
              "\n",
              "    .dataframe thead th {\n",
              "        text-align: right;\n",
              "    }\n",
              "</style>\n",
              "<table border=\"1\" class=\"dataframe\">\n",
              "  <thead>\n",
              "    <tr style=\"text-align: right;\">\n",
              "      <th></th>\n",
              "      <th>Ticker</th>\n",
              "      <th>Price</th>\n",
              "    </tr>\n",
              "  </thead>\n",
              "  <tbody>\n",
              "    <tr>\n",
              "      <th>0</th>\n",
              "      <td>MSFT</td>\n",
              "      <td>230</td>\n",
              "    </tr>\n",
              "    <tr>\n",
              "      <th>1</th>\n",
              "      <td>APPL</td>\n",
              "      <td>300</td>\n",
              "    </tr>\n",
              "    <tr>\n",
              "      <th>2</th>\n",
              "      <td>MSTR</td>\n",
              "      <td>120</td>\n",
              "    </tr>\n",
              "  </tbody>\n",
              "</table>\n",
              "</div>"
            ],
            "text/plain": [
              "  Ticker  Price\n",
              "0   MSFT    230\n",
              "1   APPL    300\n",
              "2   MSTR    120"
            ]
          },
          "execution_count": 46,
          "metadata": {},
          "output_type": "execute_result"
        }
      ],
      "source": [
        "import pandas as pd\n",
        "html = \"\"\"\n",
        " <table>\n",
        "   <tr>\n",
        "     <th>Ticker</th>\n",
        "     <th>Price</th>\n",
        "   </tr>\n",
        "   <tr>\n",
        "     <td>MSFT</td>\n",
        "     <td>230</td>\n",
        "   </tr>\n",
        "   <tr>\n",
        "     <td>APPL</td>\n",
        "     <td>300</td>\n",
        "   </tr>\n",
        "     <tr>\n",
        "     <td>MSTR</td>\n",
        "     <td>120</td>\n",
        "   </tr>\n",
        " </table>\n",
        "\n",
        " </body>\n",
        " </html>\n",
        " \"\"\"\n",
        "\n",
        "df = pd.read_html(html)\n",
        "df[0]\n"
      ]
    },
    {
      "cell_type": "markdown",
      "source": [
        "In the preceding code, the read_html() function parsed the HTML code and converted \n",
        "the HTML table into a pandas DataFrame. The headers between the <th> and </th>\n",
        "tags represent the column names of the DataFrame, and the content between the <tr></\n",
        "td> and </td></tr> tags represent the row data of the DataFrame. "
      ],
      "metadata": {
        "id": "2R96mN-wOHiN"
      },
      "id": "2R96mN-wOHiN"
    },
    {
      "cell_type": "markdown",
      "id": "aae256fc-d806-4a18-af3d-9e61ca99060f",
      "metadata": {
        "id": "aae256fc-d806-4a18-af3d-9e61ca99060f"
      },
      "source": [
        "## Using `attr` option in `read.html()`\n",
        "The read_html() function has an optional attr argument, which takes a dictionary \n",
        "of valid HTML <table> attributes, such as id or class. For example, you can use \n",
        "the attr parameter to narrow down the tables returned to those that match the class\n",
        "attribute sortable as in <table class=\"sortable\">. The read_html function \n",
        "will inspect the entire HTML page to ensure you target the right set of attributes.\n",
        "\n",
        "\n"
      ]
    },
    {
      "cell_type": "markdown",
      "source": [],
      "metadata": {
        "id": "nehaf_9yO6dx"
      },
      "id": "nehaf_9yO6dx"
    },
    {
      "cell_type": "code",
      "execution_count": 2,
      "id": "c87c19b8-4054-487c-8eac-038a2d8337e5",
      "metadata": {
        "id": "c87c19b8-4054-487c-8eac-038a2d8337e5"
      },
      "outputs": [],
      "source": [
        "#!conda install html5lib beautifulSoup4\n",
        "#!pip install html5lib beautifulSoup4"
      ]
    },
    {
      "cell_type": "code",
      "execution_count": null,
      "id": "8f591292-b34a-4186-93ff-03a9b61a497c",
      "metadata": {
        "id": "8f591292-b34a-4186-93ff-03a9b61a497c",
        "outputId": "c589aa41-e504-4b4a-9ea0-fee3ef98f0eb"
      },
      "outputs": [
        {
          "data": {
            "text/plain": [
              "7"
            ]
          },
          "execution_count": 47,
          "metadata": {},
          "output_type": "execute_result"
        }
      ],
      "source": [
        "import pandas as pd\n",
        "url = \"https://en.wikipedia.org/wiki/COVID-19_pandemic_by_country_and_territory\"\n",
        "df = pd.read_html(url, attrs={'class': 'sortable'})\n",
        "len(df)"
      ]
    },
    {
      "cell_type": "code",
      "execution_count": null,
      "id": "60e2b0ab-30fc-47a1-9d94-650b7c5a72a9",
      "metadata": {
        "id": "60e2b0ab-30fc-47a1-9d94-650b7c5a72a9",
        "outputId": "d16c48be-8707-44d4-dfae-67e03ca2d82a"
      },
      "outputs": [
        {
          "data": {
            "text/plain": [
              "Index(['Region[28]', 'Total cases', 'Total deaths', 'Cases per million',\n",
              "       'Deaths per million', 'Current weekly cases', 'Current weekly deaths',\n",
              "       'Population millions', 'Vaccinated %[29]'],\n",
              "      dtype='object')"
            ]
          },
          "execution_count": 48,
          "metadata": {},
          "output_type": "execute_result"
        }
      ],
      "source": [
        "df[3].columns"
      ]
    },
    {
      "cell_type": "code",
      "execution_count": null,
      "id": "b61722df-4c87-4a31-abe8-e337f279e639",
      "metadata": {
        "id": "b61722df-4c87-4a31-abe8-e337f279e639"
      },
      "outputs": [],
      "source": []
    },
    {
      "cell_type": "code",
      "execution_count": null,
      "id": "84cd71d6-3650-4492-a4d0-27e441f7c139",
      "metadata": {
        "id": "84cd71d6-3650-4492-a4d0-27e441f7c139"
      },
      "outputs": [],
      "source": []
    }
  ],
  "metadata": {
    "kernelspec": {
      "display_name": "Python 3 (ipykernel)",
      "language": "python",
      "name": "python3"
    },
    "language_info": {
      "codemirror_mode": {
        "name": "ipython",
        "version": 3
      },
      "file_extension": ".py",
      "mimetype": "text/x-python",
      "name": "python",
      "nbconvert_exporter": "python",
      "pygments_lexer": "ipython3",
      "version": "3.9.12"
    },
    "colab": {
      "provenance": []
    }
  },
  "nbformat": 4,
  "nbformat_minor": 5
}